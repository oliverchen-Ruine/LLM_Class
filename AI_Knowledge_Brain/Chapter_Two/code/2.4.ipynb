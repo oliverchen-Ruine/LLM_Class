{
 "cells": [
  {
   "cell_type": "markdown",
   "metadata": {},
   "source": [
    "### 索引持久化"
   ]
  },
  {
   "cell_type": "code",
   "execution_count": 27,
   "metadata": {},
   "outputs": [
    {
     "name": "stdout",
     "output_type": "stream",
     "text": [
      "FAISS索引已保存到 my_faiss_index.faiss\n"
     ]
    }
   ],
   "source": [
    "from ollama import Client\n",
    "import numpy as np\n",
    "import faiss\n",
    "\n",
    "client = Client(host='http://localhost:11434')\n",
    " # 调用嵌入模型生成词向量\n",
    "def get_embedding(text, model=\"dengcao/Qwen3-Embedding-8B:Q5_K_M\"):\n",
    "    response = client.embeddings(model=model, prompt=text)\n",
    "    return np.array(response['embedding'], dtype=np.float32)\n",
    "\n",
    "# 创建示例向量数据\n",
    "texts = [\"神经网络原理\", \"深度学习框架\", \"大模型训练\"]\n",
    "vectors = np.array([get_embedding(t) for t in texts], dtype='float32')\n",
    "\n",
    "# 创建一个FAISS索引（这里使用最简单的IndexFlatL2索引）\n",
    "dimension = vectors[0].shape[0]\n",
    "index = faiss.IndexFlatL2(dimension)\n",
    "\n",
    "# 添加向量到索引\n",
    "index.add(vectors)\n",
    "\n",
    "# 将索引保存到文件\n",
    "faiss.write_index(index, \"my_faiss_index.faiss\")\n",
    "\n",
    "print(\"FAISS索引已保存到 my_faiss_index.faiss\")"
   ]
  },
  {
   "cell_type": "markdown",
   "metadata": {},
   "source": [
    "### 文本映射数据持久化"
   ]
  },
  {
   "cell_type": "code",
   "execution_count": 28,
   "metadata": {},
   "outputs": [
    {
     "name": "stdout",
     "output_type": "stream",
     "text": [
      "文本映射已保存到 text_mapping.pkl\n"
     ]
    }
   ],
   "source": [
    "import pickle\n",
    "\n",
    "texts = [\"神经网络原理\", \"深度学习框架\", \"大模型训练\"]\n",
    "\n",
    "# 将文本列表保存到文件\n",
    "with open(\"text_mapping.pkl\", \"wb\") as f:\n",
    "    pickle.dump(texts, f)\n",
    "\n",
    "print(\"文本映射已保存到 text_mapping.pkl\")"
   ]
  },
  {
   "cell_type": "markdown",
   "metadata": {},
   "source": [
    "### 读取FAISS索引"
   ]
  },
  {
   "cell_type": "code",
   "execution_count": 29,
   "metadata": {},
   "outputs": [
    {
     "name": "stdout",
     "output_type": "stream",
     "text": [
      "索引加载成功，当前向量数量：3\n"
     ]
    }
   ],
   "source": [
    "import faiss\n",
    "\n",
    "loaded_index = faiss.read_index(\"my_faiss_index.faiss\")\n",
    "print(f\"索引加载成功，当前向量数量：{loaded_index.ntotal}\")"
   ]
  },
  {
   "cell_type": "markdown",
   "metadata": {},
   "source": [
    "### 读取文本映射数据"
   ]
  },
  {
   "cell_type": "code",
   "execution_count": 30,
   "metadata": {},
   "outputs": [
    {
     "name": "stdout",
     "output_type": "stream",
     "text": [
      "加载的文本列表：['神经网络原理', '深度学习框架', '大模型训练']\n"
     ]
    }
   ],
   "source": [
    "import pickle\n",
    "\n",
    "with open(\"text_mapping.pkl\", \"rb\") as f:\n",
    "    loaded_texts = pickle.load(f)\n",
    "\n",
    "print(f\"加载的文本列表：{loaded_texts}\")"
   ]
  },
  {
   "cell_type": "markdown",
   "metadata": {},
   "source": [
    "### 查询知识库内容"
   ]
  },
  {
   "cell_type": "code",
   "execution_count": 31,
   "metadata": {},
   "outputs": [
    {
     "name": "stdout",
     "output_type": "stream",
     "text": [
      "距离： [[11984.881]]\n",
      "索引位置： [[2]]\n",
      "匹配文本：大模型训练\n"
     ]
    }
   ],
   "source": [
    "import numpy as np\n",
    "\n",
    "\n",
    "query = \"大语言模型\"\n",
    "# query_vec是查询文本的向量（float32 numpy数组，维度与索引一致）\n",
    "query_vec = get_embedding(query)\n",
    "\n",
    "k = 1  # 取最相似的1个结果\n",
    "D, I = loaded_index.search(np.array([query_vec]), k)\n",
    "\n",
    "print(\"距离：\", D)\n",
    "print(\"索引位置：\", I)\n",
    "\n",
    "for idx in I[0]:\n",
    "    print(f\"匹配文本：{loaded_texts[idx]}\")"
   ]
  }
 ],
 "metadata": {
  "language_info": {
   "name": "python"
  }
 },
 "nbformat": 4,
 "nbformat_minor": 2
}
