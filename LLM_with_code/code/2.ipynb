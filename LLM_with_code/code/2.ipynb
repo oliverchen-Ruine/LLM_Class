{
 "cells": [
  {
   "cell_type": "markdown",
   "metadata": {},
   "source": [
    "## CodeLlama"
   ]
  },
  {
   "cell_type": "markdown",
   "metadata": {},
   "source": [
    "### Python的requests库与Ollama的REST API交互"
   ]
  },
  {
   "cell_type": "code",
   "execution_count": 1,
   "metadata": {},
   "outputs": [],
   "source": [
    "import requests\n",
    "import json\n",
    "\n",
    "def llm(prompt: str, model=\"codellama:7b\") -> str:\n",
    "    \"\"\"调用CodeLlama模型生成回答\"\"\"\n",
    "    endpoint = \"http://localhost:11434/api/generate\"\n",
    "    payload = {\n",
    "        \"model\": model,\n",
    "        \"prompt\": prompt,\n",
    "        \"stream\": False  # 关闭流式输出获取完整响应\n",
    "    }\n",
    "    \n",
    "    try:\n",
    "        response = requests.post(\n",
    "            url=endpoint,\n",
    "            data=json.dumps(payload),\n",
    "            headers={\"Content-Type\":\"application/json\"},\n",
    "            timeout=120  # 增加超时时间\n",
    "        )\n",
    "        response.raise_for_status()\n",
    "        return response.json()[\"response\"]\n",
    "    \n",
    "    except requests.exceptions.RequestException as e:\n",
    "        print(f\"API请求失败: {e}\")\n",
    "        return \"\""
   ]
  },
  {
   "cell_type": "markdown",
   "metadata": {},
   "source": [
    "### 提示代码以更高效的式重新生成所提供的代码"
   ]
  },
  {
   "cell_type": "code",
   "execution_count": 8,
   "metadata": {},
   "outputs": [
    {
     "name": "stdout",
     "output_type": "stream",
     "text": [
      "  The provided code calculates the factorial of a given number using recursion. However, it is not very efficient because it uses a lot of memory and performs many redundant calculations. Here's a more efficient way to calculate the factorial:\n",
      "```\n",
      "def factorial(n):\n",
      "    if n == 0:\n",
      "        return 1\n",
      "    else:\n",
      "        return n * factorial(n-1)\n",
      "\n",
      "# 示例用法：\n",
      "n = 5\n",
      "print(\"Factorial of\", n, \"is\", factorial(n))\n",
      "```\n",
      "This implementation uses a more efficient algorithm that avoids the need for unnecessary recursive calls. It also uses much less memory and performs fewer calculations than the original code.\n"
     ]
    }
   ],
   "source": [
    "prompt = \"\"\"\n",
    "    Regenerate the below code in a more efficient way.\n",
    "    ```\n",
    "    def factorial(n):\n",
    "        result = 1\n",
    "        for i in range(1, n + 1):\n",
    "            result *= i\n",
    "        return result\n",
    "\n",
    "    # 示例用法：\n",
    "    n=5\n",
    "    print(\"Factorial of\", n, \"is\", factorial(n))\n",
    "    ```\n",
    "    \"\"\"\n",
    "print(llm(prompt))"
   ]
  },
  {
   "cell_type": "markdown",
   "metadata": {},
   "source": [
    "### 代码补全"
   ]
  },
  {
   "cell_type": "code",
   "execution_count": 13,
   "metadata": {},
   "outputs": [
    {
     "name": "stdout",
     "output_type": "stream",
     "text": [
      "  ```\n",
      "import re\n",
      "def remove_non_ascii(my_string):\n",
      "    return re.sub(r'[^x00-x7F]', '', my_string)\n",
      "  ```\n",
      "This code uses the `re` module in Python to remove any non-ASCII characters from a given string. The `re.sub()` function is used to replace any character that is not in the range of ASCII characters (i.e., `x00-x7F`) with an empty string, effectively removing them from the string.\n",
      "\n",
      "The regular expression pattern passed to `re.sub()` is `r'[^x00-x7F]'`, which means \"any character that is not in the range of ASCII characters\". The `^` symbol at the beginning of the pattern negates the match, so it matches any character that is not in the range of ASCII characters. The `-` symbol between the `^` and `]` symbols negates the range of ASCII characters, so it matches any character that is outside of the range of ASCII characters.\n",
      "\n",
      "The function returns the modified string without any non-ASCII characters.\n"
     ]
    }
   ],
   "source": [
    "prompt = \"\"\"\n",
    "Complete the following python code.\n",
    "```\n",
    "import re\n",
    "def remove_non_ascii(my_string):\n",
    "    return re.sub()\n",
    "```\n",
    "\"\"\"\n",
    "print(llm(prompt))"
   ]
  },
  {
   "cell_type": "markdown",
   "metadata": {},
   "source": [
    "### bug解释"
   ]
  },
  {
   "cell_type": "code",
   "execution_count": 16,
   "metadata": {},
   "outputs": [
    {
     "name": "stdout",
     "output_type": "stream",
     "text": [
      "The bug in the code is that it uses `=` instead of `==` to compare the input with the expected answer.\n",
      "\n",
      "In Python, `=` is used for assignment, while `==` is used for comparison. The condition `if answer = a * b:` will always evaluate to True because it assigns the result of `a * b` to the variable `answer`, rather than checking if they are equal.\n",
      "\n",
      "Therefore, the code should be corrected as follows:\n",
      "```\n",
      "# 正确的函数\n",
      "import random  \n",
      "a = random.randint(1,12)  \n",
      "b = random.randint(1,12) \n",
      "for i in range(10): \n",
      "    question = \"what is \" + a + \"x\" + b + \"？\"\n",
      "    answer = input(question) \n",
      "    if answer == a * b:\n",
      "        print (Well done!) \n",
      "    else: \n",
      "        print(\"No.\")\n",
      "```\n"
     ]
    }
   ],
   "source": [
    "prompt = \"\"\"\n",
    "Identify the bug in the following code:\n",
    "```\n",
    "\n",
    "# 错误的函数\n",
    "import random  \n",
    "a = random.randint(1,12)  \n",
    "b = random.randint(1,12) \n",
    "for i in range(10): \n",
    "    question = \"what is \" + a + \"x\" + b + \"？\"\n",
    "    answer = input(question) \n",
    "    if answer = a * b:\n",
    "        print (Well done!) \n",
    "    else: \n",
    "        print(\"No.\")\n",
    "```\n",
    "### Explanation:\n",
    "\"\"\"\n",
    "print(llm(prompt))"
   ]
  },
  {
   "cell_type": "markdown",
   "metadata": {},
   "source": [
    "### 算法解答"
   ]
  },
  {
   "cell_type": "code",
   "execution_count": 17,
   "metadata": {},
   "outputs": [
    {
     "name": "stdout",
     "output_type": "stream",
     "text": [
      " \n",
      "def longest_substring(s):\n",
      "    \"\"\"\n",
      "    :param s: input string\n",
      "    :return: longest substring of s containing only unique characters\n",
      "    \"\"\"\n",
      "    start, end = 0, 1\n",
      "    n = len(s)\n",
      "    longest = \"\"\n",
      "    \n",
      "    while end < n:\n",
      "        if s[end] in longest:\n",
      "            longest = s[start:end]\n",
      "            start = end\n",
      "        end += 1\n",
      "    \n",
      "    return longest\n",
      "\n"
     ]
    }
   ],
   "source": [
    "prompt = \"\"\"\n",
    "Write a Python function that finds the longest substring of a given string containing only unique characters.\n",
    "\"\"\"\n",
    "print(llm(prompt))"
   ]
  }
 ],
 "metadata": {
  "language_info": {
   "name": "python"
  }
 },
 "nbformat": 4,
 "nbformat_minor": 2
}
