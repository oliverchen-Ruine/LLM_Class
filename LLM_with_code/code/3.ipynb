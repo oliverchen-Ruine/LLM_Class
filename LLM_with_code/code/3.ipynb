{
 "cells": [
  {
   "cell_type": "markdown",
   "metadata": {},
   "source": [
    "# StartCoder"
   ]
  },
  {
   "cell_type": "markdown",
   "metadata": {},
   "source": [
    "### 利用ollama本地使用StarCoder"
   ]
  },
  {
   "cell_type": "code",
   "execution_count": 2,
   "metadata": {},
   "outputs": [],
   "source": [
    "import requests\n",
    "import json\n",
    "\n",
    "def llm(prompt: str, model=\"starcoder2:7b\") -> str:\n",
    "    \"\"\"调用StartCoder模型生成回答\"\"\"\n",
    "    endpoint = \"http://localhost:11434/api/generate\"\n",
    "    payload = {\n",
    "        \"model\": model,\n",
    "        \"prompt\": prompt,\n",
    "        \"stream\": False,  # 关闭流式输出获取完整响应\n",
    "        \"options\": {\n",
    "            \"temperature\": 0.2,\n",
    "            \"num_predict\": 500\n",
    "        }\n",
    "    }\n",
    "    \n",
    "    try:\n",
    "        response = requests.post(\n",
    "            url=endpoint,\n",
    "            data=json.dumps(payload),\n",
    "            headers={\"Content-Type\":\"application/json\"},\n",
    "            timeout=120  # 增加超时时间\n",
    "        )\n",
    "        response.raise_for_status()\n",
    "        return response.json()[\"response\"]\n",
    "    \n",
    "    except requests.exceptions.RequestException as e:\n",
    "        print(f\"API请求失败: {e}\")\n",
    "        return \"\""
   ]
  },
  {
   "cell_type": "markdown",
   "metadata": {},
   "source": [
    "### 第  $n$  个斐波那契数字"
   ]
  },
  {
   "cell_type": "code",
   "execution_count": 13,
   "metadata": {},
   "outputs": [
    {
     "name": "stdout",
     "output_type": "stream",
     "text": [
      "\n",
      "\n",
      "The Fibonacci sequence is defined by the recurrence relation:\n",
      "\n",
      "$F_{n} = F_{n-1} + F_{n-2}$, where $F_0 = 0$ and $F_1 = 1$.\n",
      "\n",
      "This can be implemented in Python as follows:\n",
      "\n",
      "```python\n",
      "def fib(n):\n",
      "    if n == 0 or n == 1:\n",
      "        return n\n",
      "    else:\n",
      "        return fib(n-2) + fib(n-1)\n",
      "```\n",
      "\n",
      "The time complexity of this implementation is $O(2^n)$, which is not very efficient. A better approach is to use dynamic programming and store the results in a table. This can be implemented as follows:\n",
      "\n",
      "```python\n",
      "def fib_dp(n):\n",
      "    if n == 0 or n == 1:\n",
      "        return n\n",
      "\n",
      "    table = [None] * (n+1)\n",
      "    table[0], table[1] = 0, 1\n",
      "\n",
      "    for i in range(2, n+1):\n",
      "        table[i] = table[i-1] + table[i-2]\n",
      "\n",
      "    return table[n]\n",
      "```\n",
      "\n",
      "The time complexity of this implementation is $O(n)$, which is much better than the previous one.\n",
      "\n"
     ]
    }
   ],
   "source": [
    "prompt = \"\"\"\n",
    "How can I write a Python function to generate the nth Fibonacci number. Give me an example and explain it.\n",
    "\"\"\"\n",
    "print(llm(prompt))"
   ]
  },
  {
   "cell_type": "markdown",
   "metadata": {},
   "source": [
    "### 与计算机玩井字游戏"
   ]
  },
  {
   "cell_type": "code",
   "execution_count": null,
   "metadata": {},
   "outputs": [
    {
     "name": "stdout",
     "output_type": "stream",
     "text": [
      "\n",
      "\n",
      "# TicTacToe\n",
      "\n",
      "This is a simple web application that allows you to play tic tac toe against another player. The game can be played in two ways:\n",
      "\n",
      "1. You can play against the computer and see how well you do at it.\n",
      "2. You can play against another person on your local network.\n",
      "\n",
      "## Running the Game\n",
      "\n",
      "To run this game, first clone the repository to your local machine using the following command:\n",
      "\n",
      "    git clone https://github.com/joshua-gordon/TicTacToe.git\n",
      "\n",
      "Then navigate into the directory and start a web server in that directory with the following command:\n",
      "\n",
      "    python -m SimpleHTTPServer 8000\n",
      "\n",
      "Now you can open your browser to `http://localhost:8000` and play!\n",
      "\n"
     ]
    }
   ],
   "source": [
    "prompt = \"\"\" \n",
    "Generate the html code for a single page website that let the user play tic tac toe. \n",
    "\"\"\"\n",
    "print(llm(prompt))"
   ]
  }
 ],
 "metadata": {
  "language_info": {
   "name": "python"
  }
 },
 "nbformat": 4,
 "nbformat_minor": 2
}
