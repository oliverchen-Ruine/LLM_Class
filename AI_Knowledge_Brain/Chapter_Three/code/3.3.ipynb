{
 "cells": [
  {
   "cell_type": "markdown",
   "metadata": {},
   "source": [
    "## 添加依赖"
   ]
  },
  {
   "cell_type": "code",
   "execution_count": 162,
   "metadata": {},
   "outputs": [],
   "source": [
    "import os\n",
    "import json\n",
    "import numpy as np\n",
    "import faiss\n",
    "from typing import List, Dict, Tuple\n",
    "from dotenv import load_dotenv\n",
    "from ollama import Client\n",
    "from collections import deque\n",
    "import requests"
   ]
  },
  {
   "cell_type": "markdown",
   "metadata": {},
   "source": [
    "### 加载知识数据，包含 .index, _chunks.json, _vectors.json 三个文件\n",
    "### 并且将文本与向量对应起来，返回FAISS索引和文本元数据列表。"
   ]
  },
  {
   "cell_type": "code",
   "execution_count": 163,
   "metadata": {},
   "outputs": [],
   "source": [
    "def load_data_group(folder_path: str) -> Tuple[faiss.Index, List[Dict]]:\n",
    "    files = os.listdir(folder_path)\n",
    "    # 找出所有.index文件，依据命名前缀找到对应.json文件\n",
    "    index_files = [f for f in files if f.endswith('.index')]\n",
    "\n",
    "    # 结果：合并所有组的FAISS索引和对应元数据\n",
    "    # 为了合并多个FAISS索引，我们这里采取一次性加载所有embedding并重建索引的方案（便于统一检索）\n",
    "    all_embeddings = []\n",
    "    all_metadata = []\n",
    "\n",
    "    for idx_file in index_files:\n",
    "        prefix = idx_file[:-6]  # 去掉 '.index'\n",
    "        chunks_file = prefix + \"_chunks.json\"\n",
    "        vectors_file = prefix + \"_vectors.json\"\n",
    "\n",
    "        idx_path = os.path.join(folder_path, idx_file)\n",
    "        chunks_path = os.path.join(folder_path, chunks_file)\n",
    "        vectors_path = os.path.join(folder_path, vectors_file)\n",
    "\n",
    "        # 检查对应文件是否存在\n",
    "        if not (os.path.exists(chunks_path) and os.path.exists(vectors_path)):\n",
    "            print(f\"警告：文件组不完整，缺少 {chunks_file} 或 {vectors_file}，跳过 {prefix}\")\n",
    "            continue\n",
    "\n",
    "        # 读取文本块\n",
    "        with open(chunks_path, \"r\", encoding=\"utf-8\") as f:\n",
    "            chunks_data = json.load(f)\n",
    "\n",
    "        # 读取向量数据\n",
    "        with open(vectors_path, \"r\", encoding=\"utf-8\") as f:\n",
    "            vectors_data = json.load(f)\n",
    "\n",
    "        # 将文本和向量对应起来，确保id对应一致\n",
    "        id_to_text = {item['id']: item['text'] for item in chunks_data}\n",
    "\n",
    "        for vec_item in vectors_data:\n",
    "            vec_id = vec_item['id']\n",
    "            embedding = vec_item.get('embedding')\n",
    "            if embedding is None:\n",
    "                print(f\"警告：id={vec_id}在 {vectors_file} 中缺少embedding，跳过\")\n",
    "                continue\n",
    "            text = id_to_text.get(vec_id, \"\")\n",
    "            all_embeddings.append(embedding)\n",
    "            all_metadata.append({\n",
    "                \"id\": vec_id,\n",
    "                \"text\": text,\n",
    "                \"source_file\": vec_item.get(\"source_file\", \"\"),\n",
    "                \"prefix\": prefix\n",
    "            })\n",
    "\n",
    "    # 构建FAISS索引\n",
    "    if len(all_embeddings) == 0:\n",
    "        raise ValueError(\"没有加载到任何embedding向量，无法构建索引\")\n",
    "\n",
    "    dimension = len(all_embeddings[0])\n",
    "    #print(f\"总共加载向量数：{len(all_embeddings)}，向量维度：{dimension}\")\n",
    "\n",
    "    embeddings_np = np.array(all_embeddings, dtype=np.float32)\n",
    "\n",
    "    # 创建FAISS索引，使用内积或欧式距离（这里默认L2距离）\n",
    "    index = faiss.IndexFlatL2(dimension)\n",
    "    index.add(embeddings_np)\n",
    "    #print(f\"FAISS索引构建完成，向量总数: {index.ntotal}\")\n",
    "\n",
    "    return index, all_metadata"
   ]
  },
  {
   "cell_type": "markdown",
   "metadata": {},
   "source": [
    "### embedding向量化文本"
   ]
  },
  {
   "cell_type": "code",
   "execution_count": 164,
   "metadata": {},
   "outputs": [],
   "source": [
    "client = Client(host='http://localhost:11434')\n",
    " \n",
    "def get_embedding(text, model=\"dengcao/Qwen3-Embedding-8B:Q5_K_M\"):\n",
    "    response = client.embeddings(model=model, prompt=text)\n",
    "    return np.array(response['embedding'], dtype=np.float32)"
   ]
  },
  {
   "cell_type": "markdown",
   "metadata": {},
   "source": [
    "### RAG 引擎类，检索生成问答"
   ]
  },
  {
   "cell_type": "code",
   "execution_count": 165,
   "metadata": {},
   "outputs": [],
   "source": [
    "class RAGSystem:\n",
    "    def __init__(self, index_path, temperature=0.8, model_name=\"qwen3:8b\"):\n",
    "        self.index, self.metadata = load_data_group(index_path)\n",
    "        self.chat_history = deque(maxlen=6)  # 保留3轮对话\n",
    "        self.temperature = temperature  # 存储温度值\n",
    "        self.model_name = model_name  # 生成模型名称\n",
    "    \n",
    "    def _retrieve(self, query: str, top_k=5):\n",
    "        \"\"\"向量检索\"\"\"\n",
    "        emb = get_embedding(query)\n",
    "        distances, indices = self.index.search(np.array([emb]), top_k)\n",
    "        return [self.metadata[idx] for idx in indices[0]]\n",
    "    \n",
    "    def _build_prompt(self, context_docs, query):\n",
    "        \"\"\"知识增强的Prompt构造\"\"\"\n",
    "        context = \"\\n\\n\".join(f\"【知识片段 {i}】{doc['text']}\" \n",
    "                             for i, doc in enumerate(context_docs))\n",
    "        return f\"背景知识：\\n{context}\\n\\n问题：{query}\\n回答要求：用中文回答，包含知识来源\"\n",
    "    \n",
    "    def generate_answer(self, query, top_k):\n",
    "        # 1. 检索上下文\n",
    "        context_docs = self._retrieve(query,top_k)\n",
    "\n",
    "\n",
    "        # 2. 构造Prompt（包含多轮历史）\n",
    "        prompt = \"你是有专业文档支持的助手。请根据以下知识和对话历史回答问题：\\n\\n\"\n",
    "    \n",
    "        # 添加对话历史（如果有）\n",
    "        if self.chat_history:\n",
    "            for i, content in enumerate(self.chat_history):\n",
    "                role = \"用户\" if i % 2 == 0 else \"助手\"\n",
    "                prompt += f\"{role}: {content}\\n\"\n",
    "    \n",
    "        # 添加当前问题和知识片段\n",
    "        prompt += f\"\\n知识背景：\\n{self._build_prompt(context_docs, query)}\"\n",
    "        print(\"=== 最终 prompt ===\")\n",
    "        print(prompt)\n",
    "        # 3. 调用Ollama\n",
    "        response = requests.post(\n",
    "            \"http://localhost:11434/api/generate\",\n",
    "            json={\n",
    "                \"model\": self.model_name,\n",
    "                \"prompt\": prompt,\n",
    "                \"stream\": False,  # 明确要求非流式输出\n",
    "                \"options\": {\n",
    "                    \"temperature\": self.temperature  # 设置温度值\n",
    "                }\n",
    "            }\n",
    "        )\n",
    "        answer = response.json()[\"response\"]\n",
    "        \n",
    "        # 4. 后处理\n",
    "        clean_answer = self._postprocess(answer)\n",
    "        self.chat_history.extend([query, clean_answer])\n",
    "        return clean_answer\n",
    "\n",
    "\n",
    "    def _postprocess(self, text):\n",
    "        \"\"\"答案优化\"\"\"\n",
    "        last_query = self.chat_history[-2] if len(self.chat_history) >= 2 else \"\"\n",
    "        # 学术文献添加引用\n",
    "        if any(kw in last_query  for kw in [\"文献\", \"研究\"]):\n",
    "            return f\"{text}\\n\\n来源：{self.current_sources()}\"\n",
    "            \n",
    "        # 法律文件精确条款标注\n",
    "        elif \"条款\" in last_query :\n",
    "            return re.sub(r\"第([零一二三四五六七八九十百]+)条\", r\"【\\g<0>】\", text)\n",
    "        \n",
    "        return text.strip()"
   ]
  },
  {
   "cell_type": "markdown",
   "metadata": {},
   "source": [
    "### 主程序"
   ]
  },
  {
   "cell_type": "code",
   "execution_count": 166,
   "metadata": {},
   "outputs": [
    {
     "name": "stdout",
     "output_type": "stream",
     "text": [
      "欢迎使用AI知识脑\n",
      "\n",
      "=== 最终 prompt ===\n",
      "你是有专业文档支持的助手。请根据以下知识和对话历史回答问题：\n",
      "\n",
      "\n",
      "知识背景：\n",
      "背景知识：\n",
      "【知识片段 0】化，它在专制主义压抑下崛起，在同帝国主义和封建买办文化的搏争中壮大，直至确立在全国范围内的主导地位。 其长现之三在于：民国社会复杂的阶级构成，特别是政党斗争和政权分割的多元政治形势，决定了民国文化的多元格局，即多种文化并存、两大文化阵营对垒的局面；同时也赋了了它鲜明的政治性格。 在整个民国时期，社会结构呈现出十分复杂的状态，作为各个社会阶级和阶层意识形态表现的文化也同样呈现出比晚清时期更为错综复杂的构成。毛泽东在《新民主主义论》小，曾将此期的文化成分概括为三种：（1）“帝国主义文化”，－-切包含双化思想的文化，都属于这一类：（2）“半封建文化\"，凡属上张尊孔读经、提倡旧礼教、旧思想、反对新文化新思想者，都属于这-类;（3）新民主主义的文化，即“无产阶级领导的反帝反封建的文化”。这当然是就其主要成分而言，如果分得细些，还有更多。\n",
      "\n",
      "【知识片段 1】国最杰出的抒情诗人”。② 在诗歌创作中取得更大成就的是新月社成员，其代表人物是徐志摩、闻一多和朱湘。徐志摩（1891一1931年）是“新月诗派”的盟主，在1922年到1931年近十年的时间里，先后出版了《志摩的诗》、《翡冷翠的一夜》、《猛虎集》等诗集，《落叶》、《自剖》、《巴黎的鳞爪》等散文集。收在《志摩的诗》中的早期诗作大都内容健康，格调清新，形式活泼白然，如《落叶小唱》、《残诗》等，洋溢着积极乐观的情调。但面对当时中国社会的黑 暗，诗人也在许多诗篇中流露出失望和颓唐情绪，特别是在《翡冷翠的·夜》和《猛虎集》中的一些诗篇，如《大帅》、《三月「二深夜大沽口外》等。此后，他以全部精力追求诗的格律的改革与创造，音调的和谐与匀称。代表徐志艺术成就的，是那些并无明显社会内容的抒情诗，它们是“从性灵暖处来的诗句”。\n",
      "\n",
      "【知识片段 2】籍也丘花八门』。这使得各教派多主张“三教归一”或“五教归一”，尽管他们对各家思想并无真正透彻的了解。需要指出的是，当时“在国内几乎做到了无上尊严的地位”的科学②，对秘密宗教也有一定的影响，以至于－-些教派如一贯道·--再强调己教“就理论言之则为哲学，玄而义玄；就具体研究，则又属科学”③。 最后，各秘密教派之所以能在民国时代此消彼长，生生不息，足由于当此乱世，人们需要宗教作为精神支柱。只是他们宗教情感虽浓，知识水准、组织能力、科学观念却差，导致各教良莠混杂，有的还恣意妄为。低劣的质量使这些秘密宗教的生命力不可能持久，至50年代初期，在新政府的大力整肃下，仅存的一些秘密教派也销声匿迹了。 第七章 “日仪已失，新轨未立”：伦理道德的变革 民国时代，是一个旧道德不断削弱、改造，新道德日益兴起的时代。新旧伦理道德-开始就针锋相对，激烈交锋，其结果是“日仪已失，新轨未立”。\n",
      "\n",
      "【知识片段 3】文化交流达到-*定历史阶段的产物，它成为民族主义精神在民国文化领域的又一突出表现和特点。以宗教为例。这·时期，天主教和新教都出现了明显的中国化倾向。如在中国教徒的努力和中国国内民族民主运动的影响下，基督教新教广泛开展了本色化和自立运动，除了使得在华各种教会名称前均带上了“中华”或“中国”字样，各地区的主教和教会学校校长大多改为华人之外，在宗教的形式和内容上也都有着“中国本色”的白觉追求，如反对完全照搬和模仿西方基督教礼仪、组织和布道方法，让教徒过中国的传统节日，用中国民族曲调唱赞美诗，采用适合中国国情的婚丧仪式等等，民族化的教堂建筑、宗教绘画和宗教音乐因之纷纷出现。在仪轨上，此期基督教也带有了中国特色，有的教会竟采用佛教祈拜方式，礼拜时燃香并跪诵经文。在思想上，教内其至还有人主张儒化或佛化基督教。\n",
      "\n",
      "【知识片段 4】版厂《新唯识论》语体文本，及《读经示要》、《十力语要》等哲学著作，建立了新儒家真正意义上的哲学思想。提出了“体用不二”的本体论、“歙辟成变”的辩证法的-套哲学体系，发挥了陆王心学“心性论”思想。冯友兰发表了《贞元六书》，继承程朱理学思想传统，并借鉴了西方维也纳学派的经验主义哲学，重新建立新理学的形而上学，建构了一套“新理学”的哲学思想体系。同时，贺麟发表了《近代唯心论简释》、《知行合新论》和《儒家思想的新开展》等论著，用新黑格尔亡义的思想，发挥并改造陆王心学，建构了套“新心学”哲学体系。 这样，从五四时期开始，中国一部分学家站在中国儒家哲学的立场上，在了解利吸收西方现代哲学的基础上，开始用西方现代哲学的理论和方法从不同的角度对宋明理学进行发挥和改造，形成了新儒家哲学流派。 二是从西方现代哲学发展的趋向入于，在介绍、消化和接受西方哲学的基础.\n",
      "\n",
      "问题：总结一下民国文化的特点\n",
      "回答要求：用中文回答，包含知识来源\n",
      "\n",
      "=== 回答 ===\n",
      "\n"
     ]
    },
    {
     "data": {
      "text/html": [
       "<style>pre { white-space: pre-wrap; }</style>"
      ],
      "text/plain": [
       "<IPython.core.display.HTML object>"
      ]
     },
     "metadata": {},
     "output_type": "display_data"
    },
    {
     "name": "stdout",
     "output_type": "stream",
     "text": [
      "<think>\n",
      "好的，我现在需要总结民国文化的特点。根据提供的知识片段，我需要仔细分析每个片段的内容，找出共同点和关键点。首先看知识片段0，里面提到民国文化在专制主义压抑下崛起，与帝国主义和封建买办文化斗争中壮大，确立了主导地位。还提到社会结构复杂，阶级构成多样，导致文化多元格局，分为多种文化并存和两大阵营对垒。毛泽东在《新民主主义论》中将文化分为帝国主义文化、半封建文化和新民主主义文化。这说明民国文化具有多元性和政治性。\n",
      "\n",
      "接下来是知识片段1，主要讲新月社成员如徐志摩的诗歌创作，强调抒情和形式改革，还有社会内容的缺失。这可能反映出民国文化中的文学艺术追求形式美和情感表达，但可能缺乏强烈的社会批判性。不过这部分更多是文学方面的，可能需要结合其他片段看整体文化特点。\n",
      "\n",
      "知识片段2提到秘密宗教的兴盛，各教派主张三教归一，科学对宗教的影响，以及秘密宗教的短暂生命力。这说明民国时期宗教文化有融合趋势，但存在混乱和低质量的问题，可能反映出社会动荡下宗教寻求适应和变革。\n",
      "\n",
      "知识片段3讨论文化交流和中国化倾向，天主教和新教的中国化，如本色化、自立运动，采用中国传统节日和礼仪，甚至融合佛教元素。这显示民国文化中的宗教具有本土化、民族化的特点，强调与本土文化的结合。\n",
      "\n",
      "知识片段4涉及新儒家哲学的发展，冯友兰和贺麟等人用西方哲学方法改造宋明理学，形成新儒家流派。这说明民国文化在思想领域有中西结合的趋势，学术界积极吸收西方哲学，同时维护传统儒家思想。\n",
      "\n",
      "综合这些信息，民国文化的特点应该包括：多元并存（不同文化阵营）、政治性（与新民主主义相关）、宗教的本土化、中西融合（如新儒家）、社会动荡带来的文化变革等。需要确认每个知识点是否都支持这些结论，并正确引用来源。例如，知识片段0提到毛泽东的分类和多元格局，知识片段3和4涉及中西结合和宗教中国化，知识片段2提到宗教的融合和科学影响。确保每个特点都有对应的知识片段支持，并正确标注来源。\n",
      "</think>\n",
      "\n",
      "民国文化具有以下特点，依据知识来源总结如下：\n",
      "\n",
      "1. **多元文化并存与政治性**  \n",
      "   民国时期社会结构复杂，阶级和阶层意识形态呈现多维度构成，形成“多种文化并存、两大文化阵营对垒”的格局（知识片段0）。毛泽东在《新民主主义论》中将文化分为三类：帝国主义文化、半封建文化与新民主主义文化（知识片段0），凸显其政治性，即文化与阶级斗争、反帝反封建目标紧密关联。\n",
      "\n",
      "2. **宗教文化的本土化与融合**  \n",
      "   宗教在民国时期呈现中国化倾向，如天主教和新教开展“本色化”运动，采用中国传统礼仪（如过传统节日、用民族曲调唱赞美诗），甚至融合佛教元素（知识片段3）。同时，秘密宗教（如一贯道）主张“三教归一”，试图将儒、释、道等思想整合，但因知识水准和组织能力不足，最终难以持久（知识片段2）。\n",
      "\n",
      "3. **中西哲学的交融与创新**  \n",
      "   民国学者在吸收西方现代哲学（如维也纳学派、黑格尔主义）的基础上，改造宋明理学，形成新儒家哲学流派。冯友兰提出“体用不二”的本体论，贺麟发展“新心学”，体现中西哲学融合的特点（知识片段4）。\n",
      "\n",
      "4. **文学艺术的抒情性与形式探索**  \n",
      "   新月社诗人如徐志摩注重抒情与格律创新，其作品多表现个人情感与对社会黑暗的反思，但缺乏明显的社会批判内容（知识片段1），反映文学领域对形式美和情感表达的追求。\n",
      "\n",
      "5. **伦理道德的变革与混乱**  \n",
      "   民国时期旧道德逐渐式微，新道德兴起，但新旧伦理交锋导致“日仪已失，新轨未立”的局面（知识片段2），体现社会转型期的道德困境。\n",
      "\n",
      "综上，民国文化以多元性、政治性、本土化与中西融合为显著特征，同时因社会动荡而呈现复杂性和阶段性矛盾。  \n",
      "（知识来源：知识片段0、1、2、3、4）\n"
     ]
    }
   ],
   "source": [
    "if __name__ == \"__main__\":\n",
    "    folder = \"/workspace/code/datas/output\"  # 修改为你的文件夹路径\n",
    "    rag_engine = RAGSystem(folder)\n",
    "\n",
    "    \n",
    "    q = '总结一下民国文化的特点'\n",
    "    print(\"欢迎使用AI知识脑\\n\")\n",
    "    ans = rag_engine.generate_answer(q, top_k=5)\n",
    "    print(\"\\n=== 回答 ===\\n\")\n",
    "    from IPython.display import display, HTML\n",
    "    display(HTML(\"<style>pre { white-space: pre-wrap; }</style>\"))\n",
    "    print(ans)"
   ]
  },
  {
   "cell_type": "markdown",
   "metadata": {},
   "source": []
  }
 ],
 "metadata": {
  "language_info": {
   "name": "python"
  }
 },
 "nbformat": 4,
 "nbformat_minor": 2
}
