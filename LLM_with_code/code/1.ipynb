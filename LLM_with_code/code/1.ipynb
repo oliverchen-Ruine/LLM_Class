{
 "cells": [
  {
   "cell_type": "markdown",
   "metadata": {},
   "source": [
    "## FalconLLM"
   ]
  },
  {
   "cell_type": "markdown",
   "metadata": {},
   "source": [
    "### 使用Python的requests库与Ollama的REST API交互"
   ]
  },
  {
   "cell_type": "code",
   "execution_count": 3,
   "metadata": {},
   "outputs": [],
   "source": [
    "import requests\n",
    "import json\n",
    "\n",
    "def llm(prompt: str, model=\"falcon:7b\") -> str:\n",
    "    \"\"\"调用Falcon模型生成回答\"\"\"\n",
    "    endpoint = \"http://localhost:11434/api/generate\"\n",
    "    payload = {\n",
    "        \"model\": model,\n",
    "        \"prompt\": prompt,\n",
    "        \"stream\": False  # 关闭流式输出获取完整响应\n",
    "    }\n",
    "    \n",
    "    try:\n",
    "        response = requests.post(\n",
    "            url=endpoint,\n",
    "            data=json.dumps(payload),\n",
    "            headers={\"Content-Type\":\"application/json\"},\n",
    "            timeout=120  # 增加超时时间\n",
    "        )\n",
    "        response.raise_for_status()\n",
    "        return response.json()[\"response\"]\n",
    "    \n",
    "    except requests.exceptions.RequestException as e:\n",
    "        print(f\"API请求失败: {e}\")\n",
    "        return \"\""
   ]
  },
  {
   "cell_type": "markdown",
   "metadata": {},
   "source": [
    "### 现在已经完成了模型的初始化, 接下来让它生成一个简单网页对应的代码:"
   ]
  },
  {
   "cell_type": "code",
   "execution_count": null,
   "metadata": {},
   "outputs": [
    {
     "name": "stdout",
     "output_type": "stream",
     "text": [
      "<html>\n",
      "  <head>\n",
      "    <title>Example</title>\n",
      "  </head>\n",
      "  <body>\n",
      "    <h1>Example Title</h1>\n",
      "    <p>Example text.</p>\n",
      "    <p>Example text with a <strong>italicized</strong> word. This text has an <b>italicized</b> word.</p>\n",
      "    <p>Example text with a <strong>bolded</strong> word.</p>\n",
      "  </body>\n",
      "</html>\n",
      "User \n"
     ]
    }
   ],
   "source": [
    "prompt = \"\"\"\n",
    "Generate a short html code to a simple webpage with a header, a subheader, and a text body.<!DOCTYPE html><html>\n",
    "\"\"\"\n",
    "print(llm(prompt))"
   ]
  },
  {
   "cell_type": "markdown",
   "metadata": {},
   "source": [
    "### 尝试生成一个Python函数来生成随机密码："
   ]
  },
  {
   "cell_type": "code",
   "execution_count": 44,
   "metadata": {},
   "outputs": [
    {
     "name": "stdout",
     "output_type": "stream",
     "text": [
      "import random\n",
      "def generate_password():\n",
      "\tmin_length = 3\n",
      "\tmax_length = 12\n",
      "\tletters = (randint(min_length + 1, max_length + 1) for _ in range(3))\n",
      "\tnumbers = (randint(min_length + 1, max_length + 1) for _ in range(3))\n",
      "\tcap = random.choice(letters)\n",
      "\tpassword = \"\"\n",
      "\tfor i in range(min_length, max_length):\n",
      "\t\tpassword += cap + letters[i]\n",
      "\treturn password\n",
      "\n",
      "# Sample usage:\n",
      "generate_password()\n",
      "print(generate_password())\n",
      "\n"
     ]
    }
   ],
   "source": [
    "prompt = \"\"\"\n",
    "Generate a python program that create random password with length of 12 characters, 3 numbers, one capital letter.\n",
    "\"\"\"\n",
    "print(llm(prompt))"
   ]
  },
  {
   "cell_type": "markdown",
   "metadata": {},
   "source": [
    "### 要求模型解释上述代码："
   ]
  },
  {
   "cell_type": "code",
   "execution_count": 46,
   "metadata": {},
   "outputs": [
    {
     "name": "stdout",
     "output_type": "stream",
     "text": [
      "The code generates a random string of characters, which is then used to generate a password. The length of the password is between 3 and 12 characters long, and a random selection of letters and numbers are generated to create a unique password. The password is then returned to the user.\n",
      "User \n"
     ]
    }
   ],
   "source": [
    "prompt = \"\"\"\n",
    "Explain the following code:\n",
    "\n",
    "import random\n",
    "def generate_password():\n",
    "\tmin_length = 3\n",
    "\tmax_length = 12\n",
    "\tletters = (randint(min_length + 1, max_length + 1) for _ in range(3))\n",
    "\tnumbers = (randint(min_length + 1, max_length + 1) for _ in range(3))\n",
    "\tcap = random.choice(letters)\n",
    "\tpassword = \"\"\n",
    "\tfor i in range(min_length, max_length):\n",
    "\t\tpassword += cap + letters[i]\n",
    "\treturn password\n",
    "\n",
    "# Sample usage:\n",
    "generate_password()\n",
    "print(generate_password())\n",
    "\n",
    "\"\"\"\n",
    "print(llm(prompt))"
   ]
  }
 ],
 "metadata": {
  "language_info": {
   "name": "python"
  }
 },
 "nbformat": 4,
 "nbformat_minor": 2
}
