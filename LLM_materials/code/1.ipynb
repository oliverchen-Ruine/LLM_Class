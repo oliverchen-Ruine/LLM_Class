{
 "cells": [
  {
   "cell_type": "markdown",
   "metadata": {},
   "source": [
    "### MPRester API实现"
   ]
  },
  {
   "cell_type": "code",
   "execution_count": 1,
   "metadata": {},
   "outputs": [
    {
     "name": "stderr",
     "output_type": "stream",
     "text": [
      "/root/.pyenv/versions/3.11.1/lib/python3.11/site-packages/tqdm/auto.py:21: TqdmWarning: IProgress not found. Please update jupyter and ipywidgets. See https://ipywidgets.readthedocs.io/en/stable/user_install.html\n",
      "  from .autonotebook import tqdm as notebook_tqdm\n"
     ]
    },
    {
     "ename": "MPRestError",
     "evalue": "Your IP address or ASN has been (temporarily) blocked from accessing all MP services due to inefficient or abusive traffic. Please make yourself familiar with our terms, make sure to run the latest version of the mp-api client (https://pypi.org/project/mp-api/), read our documentation (particularly https://docs.materialsproject.org/downloading-data/using-the-api/tips-for-large-downloads), and consult our forum (https://matsci.org/materials-project). Afterwards, reach out to us per email to support@materialsproject.org if you think your use case is legitimate. Include the public IP address of the machine being blocked in your message.",
     "output_type": "error",
     "traceback": [
      "\u001b[31m---------------------------------------------------------------------------\u001b[39m",
      "\u001b[31mMPRestError\u001b[39m                               Traceback (most recent call last)",
      "\u001b[36mCell\u001b[39m\u001b[36m \u001b[39m\u001b[32mIn[1]\u001b[39m\u001b[32m, line 6\u001b[39m\n\u001b[32m      3\u001b[39m \u001b[38;5;28;01mfrom\u001b[39;00m\u001b[38;5;250m \u001b[39m\u001b[34;01mdotenv\u001b[39;00m\u001b[38;5;250m \u001b[39m\u001b[38;5;28;01mimport\u001b[39;00m load_dotenv\n\u001b[32m      4\u001b[39m load_dotenv()\n\u001b[32m----> \u001b[39m\u001b[32m6\u001b[39m \u001b[38;5;28;01mwith\u001b[39;00m \u001b[43mMPRester\u001b[49m\u001b[43m(\u001b[49m\u001b[43mos\u001b[49m\u001b[43m.\u001b[49m\u001b[43mgetenv\u001b[49m\u001b[43m(\u001b[49m\u001b[33;43m\"\u001b[39;49m\u001b[33;43mMP_API_KEY\u001b[39;49m\u001b[33;43m\"\u001b[39;49m\u001b[43m)\u001b[49m\u001b[43m)\u001b[49m \u001b[38;5;28;01mas\u001b[39;00m mpr:\n\u001b[32m      7\u001b[39m     \u001b[38;5;66;03m# 寻找带隙>2eV的钙钛矿太阳能材料\u001b[39;00m\n\u001b[32m      8\u001b[39m     criteria = {\u001b[33m\"\u001b[39m\u001b[33mband_gap\u001b[39m\u001b[33m\"\u001b[39m: {\u001b[33m\"\u001b[39m\u001b[33m$gt\u001b[39m\u001b[33m\"\u001b[39m: \u001b[32m2\u001b[39m}, \u001b[33m\"\u001b[39m\u001b[33melements\u001b[39m\u001b[33m\"\u001b[39m: {\u001b[33m\"\u001b[39m\u001b[33m$all\u001b[39m\u001b[33m\"\u001b[39m: [\u001b[33m\"\u001b[39m\u001b[33mCa\u001b[39m\u001b[33m\"\u001b[39m,\u001b[33m\"\u001b[39m\u001b[33mTi\u001b[39m\u001b[33m\"\u001b[39m,\u001b[33m\"\u001b[39m\u001b[33mO\u001b[39m\u001b[33m\"\u001b[39m]}} \n\u001b[32m      9\u001b[39m     results = mpr.query(\n\u001b[32m     10\u001b[39m             criteria=criteria,\n\u001b[32m     11\u001b[39m             properties=[\u001b[33m\"\u001b[39m\u001b[33mmaterial_id\u001b[39m\u001b[33m\"\u001b[39m, \u001b[33m\"\u001b[39m\u001b[33mformula\u001b[39m\u001b[33m\"\u001b[39m],\n\u001b[32m     12\u001b[39m             chunk_size=\u001b[32m500\u001b[39m,  \u001b[38;5;66;03m# 分块下载\u001b[39;00m\n\u001b[32m     13\u001b[39m         )\n",
      "\u001b[36mFile \u001b[39m\u001b[32m~/.pyenv/versions/3.11.1/lib/python3.11/site-packages/mp_api/client/mprester.py:223\u001b[39m, in \u001b[36mMPRester.__init__\u001b[39m\u001b[34m(self, api_key, endpoint, notify_db_version, include_user_agent, monty_decode, use_document_model, session, headers, mute_progress_bars)\u001b[39m\n\u001b[32m    192\u001b[39m \u001b[38;5;28mself\u001b[39m._deprecated_attributes = [\n\u001b[32m    193\u001b[39m     \u001b[33m\"\u001b[39m\u001b[33meos\u001b[39m\u001b[33m\"\u001b[39m,\n\u001b[32m    194\u001b[39m     \u001b[33m\"\u001b[39m\u001b[33msimilarity\u001b[39m\u001b[33m\"\u001b[39m,\n\u001b[32m   (...)\u001b[39m\u001b[32m    219\u001b[39m     \u001b[33m\"\u001b[39m\u001b[33mchemenv\u001b[39m\u001b[33m\"\u001b[39m,\n\u001b[32m    220\u001b[39m ]\n\u001b[32m    222\u001b[39m \u001b[38;5;66;03m# Check if emmet version of server is compatible\u001b[39;00m\n\u001b[32m--> \u001b[39m\u001b[32m223\u001b[39m emmet_version = \u001b[43mMPRester\u001b[49m\u001b[43m.\u001b[49m\u001b[43mget_emmet_version\u001b[49m\u001b[43m(\u001b[49m\u001b[38;5;28;43mself\u001b[39;49m\u001b[43m.\u001b[49m\u001b[43mendpoint\u001b[49m\u001b[43m)\u001b[49m\n\u001b[32m    225\u001b[39m \u001b[38;5;28;01mif\u001b[39;00m version.parse(emmet_version.base_version) < version.parse(\n\u001b[32m    226\u001b[39m     _MAPI_SETTINGS.MIN_EMMET_VERSION\n\u001b[32m    227\u001b[39m ):\n\u001b[32m    228\u001b[39m     warnings.warn(\n\u001b[32m    229\u001b[39m         \u001b[33m\"\u001b[39m\u001b[33mThe installed version of the mp-api client may not be compatible with the API server. \u001b[39m\u001b[33m\"\u001b[39m\n\u001b[32m    230\u001b[39m         \u001b[33m\"\u001b[39m\u001b[33mPlease install a previous version if any problems occur.\u001b[39m\u001b[33m\"\u001b[39m\n\u001b[32m    231\u001b[39m     )\n",
      "\u001b[36mFile \u001b[39m\u001b[32m~/.pyenv/versions/3.11.1/lib/python3.11/site-packages/mp_api/client/mprester.py:497\u001b[39m, in \u001b[36mMPRester.get_emmet_version\u001b[39m\u001b[34m(endpoint)\u001b[39m\n\u001b[32m    495\u001b[39m error = response.get(\u001b[33m\"\u001b[39m\u001b[33merror\u001b[39m\u001b[33m\"\u001b[39m, \u001b[38;5;28;01mNone\u001b[39;00m)\n\u001b[32m    496\u001b[39m \u001b[38;5;28;01mif\u001b[39;00m error:\n\u001b[32m--> \u001b[39m\u001b[32m497\u001b[39m     \u001b[38;5;28;01mraise\u001b[39;00m MPRestError(error)\n\u001b[32m    499\u001b[39m \u001b[38;5;28;01mreturn\u001b[39;00m version.parse(response[\u001b[33m\"\u001b[39m\u001b[33mversion\u001b[39m\u001b[33m\"\u001b[39m])\n",
      "\u001b[31mMPRestError\u001b[39m: Your IP address or ASN has been (temporarily) blocked from accessing all MP services due to inefficient or abusive traffic. Please make yourself familiar with our terms, make sure to run the latest version of the mp-api client (https://pypi.org/project/mp-api/), read our documentation (particularly https://docs.materialsproject.org/downloading-data/using-the-api/tips-for-large-downloads), and consult our forum (https://matsci.org/materials-project). Afterwards, reach out to us per email to support@materialsproject.org if you think your use case is legitimate. Include the public IP address of the machine being blocked in your message."
     ]
    }
   ],
   "source": [
    "from mp_api.client import MPRester\n",
    "import os\n",
    "from dotenv import load_dotenv\n",
    "load_dotenv()\n",
    "\n",
    "with MPRester(os.getenv(\"MP_API_KEY\")) as mpr:\n",
    "    # 寻找带隙>2eV的钙钛矿太阳能材料\n",
    "    criteria = {\"band_gap\": {\"$gt\": 2}, \"elements\": {\"$all\": [\"Ca\",\"Ti\",\"O\"]}} \n",
    "    results = mpr.query(\n",
    "            criteria=criteria,\n",
    "            properties=[\"material_id\", \"formula\"],\n",
    "            chunk_size=500,  # 分块下载\n",
    "        )\n",
    "    \n",
    "print(results)"
   ]
  }
 ],
 "metadata": {
  "language_info": {
   "name": "python"
  }
 },
 "nbformat": 4,
 "nbformat_minor": 2
}
